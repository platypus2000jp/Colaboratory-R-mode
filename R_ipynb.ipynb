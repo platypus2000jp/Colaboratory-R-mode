{
  "nbformat": 4,
  "nbformat_minor": 0,
  "metadata": {
    "colab": {
      "provenance": [],
      "include_colab_link": true
    },
    "kernelspec": {
      "name": "ir",
      "display_name": "R"
    },
    "language_info": {
      "name": "python"
    },
    "gpuClass": "standard"
  },
  "cells": [
    {
      "cell_type": "markdown",
      "metadata": {
        "id": "view-in-github",
        "colab_type": "text"
      },
      "source": [
        "<a href=\"https://colab.research.google.com/github/platypus2000jp/Colaboratory-R-mode/blob/main/R_ipynb.ipynb\" target=\"_parent\"><img src=\"https://colab.research.google.com/assets/colab-badge.svg\" alt=\"Open In Colab\"/></a>"
      ]
    },
    {
      "cell_type": "markdown",
      "source": [
        "GoogeドライブでRを使う。\n",
        "Google Colaboratory R mode\n",
        "メニュー/ファイル/.ipynbをダウンロード\n",
        "テキストファイルの2か所を書き換える。\n",
        "python3 to ir\n",
        "python3 to R\n",
        "ファイル/ノートブックをアップロード\n",
        "ランタイム/ランタイムタイプを変更　R　none\n",
        "\n",
        "公式　変更方法\n",
        "##https://htsuda.net/stats/colab.html"
      ],
      "metadata": {
        "id": "-F3p1tbtZRYh"
      }
    },
    {
      "cell_type": "code",
      "execution_count": null,
      "metadata": {
        "id": "rp8rqVtuVpEO",
        "colab": {
          "base_uri": "https://localhost:8080/",
          "height": 272
        },
        "outputId": "b612a61d-69a7-47ad-cfe3-f72370f40c1b"
      },
      "outputs": [
        {
          "output_type": "display_data",
          "data": {
            "text/html": [
              "<table class=\"dataframe\">\n",
              "<caption>A data.frame: 5 × 2</caption>\n",
              "<thead>\n",
              "\t<tr><th scope=col>x</th><th scope=col>y</th></tr>\n",
              "\t<tr><th scope=col>&lt;int&gt;</th><th scope=col>&lt;int&gt;</th></tr>\n",
              "</thead>\n",
              "<tbody>\n",
              "\t<tr><td>1</td><td> 6</td></tr>\n",
              "\t<tr><td>2</td><td> 7</td></tr>\n",
              "\t<tr><td>3</td><td> 8</td></tr>\n",
              "\t<tr><td>4</td><td> 9</td></tr>\n",
              "\t<tr><td>5</td><td>10</td></tr>\n",
              "</tbody>\n",
              "</table>\n"
            ],
            "text/markdown": "\nA data.frame: 5 × 2\n\n| x &lt;int&gt; | y &lt;int&gt; |\n|---|---|\n| 1 |  6 |\n| 2 |  7 |\n| 3 |  8 |\n| 4 |  9 |\n| 5 | 10 |\n\n",
            "text/latex": "A data.frame: 5 × 2\n\\begin{tabular}{ll}\n x & y\\\\\n <int> & <int>\\\\\n\\hline\n\t 1 &  6\\\\\n\t 2 &  7\\\\\n\t 3 &  8\\\\\n\t 4 &  9\\\\\n\t 5 & 10\\\\\n\\end{tabular}\n",
            "text/plain": [
              "  x y \n",
              "1 1  6\n",
              "2 2  7\n",
              "3 3  8\n",
              "4 4  9\n",
              "5 5 10"
            ]
          },
          "metadata": {}
        }
      ],
      "source": [
        "##R\n",
        "df = data.frame( x = 1:5, y = 6:10 )\n",
        "df\n",
        "\n"
      ]
    },
    {
      "cell_type": "markdown",
      "source": [
        "以上、Rの表記の確認。"
      ],
      "metadata": {
        "id": "emB7r1vpZH1e"
      }
    },
    {
      "cell_type": "markdown",
      "source": [
        "Rのバージョン確認。"
      ],
      "metadata": {
        "id": "AJF_71QMdN-q"
      }
    },
    {
      "cell_type": "code",
      "source": [
        "R.version"
      ],
      "metadata": {
        "colab": {
          "base_uri": "https://localhost:8080/",
          "height": 287
        },
        "id": "7YxKR07bc04F",
        "outputId": "2df86a4a-ae81-4d6e-bb7d-03da74535966"
      },
      "execution_count": null,
      "outputs": [
        {
          "output_type": "display_data",
          "data": {
            "text/plain": [
              "               _                                          \n",
              "platform       x86_64-pc-linux-gnu                        \n",
              "arch           x86_64                                     \n",
              "os             linux-gnu                                  \n",
              "system         x86_64, linux-gnu                          \n",
              "status         Patched                                    \n",
              "major          4                                          \n",
              "minor          2.2                                        \n",
              "year           2022                                       \n",
              "month          11                                         \n",
              "day            10                                         \n",
              "svn rev        83330                                      \n",
              "language       R                                          \n",
              "version.string R version 4.2.2 Patched (2022-11-10 r83330)\n",
              "nickname       Innocent and Trusting                      "
            ]
          },
          "metadata": {}
        }
      ]
    },
    {
      "cell_type": "code",
      "source": [],
      "metadata": {
        "id": "RRluENlK3ibJ"
      },
      "execution_count": null,
      "outputs": []
    },
    {
      "cell_type": "code",
      "source": [],
      "metadata": {
        "id": "dipnLbIx3v7A"
      },
      "execution_count": null,
      "outputs": []
    }
  ]
}