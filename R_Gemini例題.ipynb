{
  "nbformat": 4,
  "nbformat_minor": 0,
  "metadata": {
    "colab": {
      "provenance": [],
      "include_colab_link": true
    },
    "kernelspec": {
      "name": "ir",
      "display_name": "R"
    },
    "language_info": {
      "name": "R"
    }
  },
  "cells": [
    {
      "cell_type": "markdown",
      "metadata": {
        "id": "view-in-github",
        "colab_type": "text"
      },
      "source": [
        "<a href=\"https://colab.research.google.com/github/platypus2000jp/Colaboratory-R-mode/blob/main/R_Gemini%E4%BE%8B%E9%A1%8C.ipynb\" target=\"_parent\"><img src=\"https://colab.research.google.com/assets/colab-badge.svg\" alt=\"Open In Colab\"/></a>"
      ]
    },
    {
      "cell_type": "markdown",
      "source": [
        "Rモードへの切り替え。\n",
        "\n",
        "ランタイムをPythonからRに変更。\n",
        "notebookを保存する。\n",
        "\n",
        "変更箇所\n",
        "\"kernelspec\": {\n",
        "  \"name\": \"ir\", #\"python3\" から\"ir\"に変更。\n",
        "  \"display_name\": \"R\" #\"Python3\" から\"R\"に変更。\n",
        "}\n",
        "\n",
        "\n",
        "変更前\n",
        "{\n",
        "  \"nbformat\": 4,\n",
        "  \"nbformat_minor\": 0,\n",
        "  \"metadata\": {\n",
        "    \"colab\": {\n",
        "      \"provenance\": []\n",
        "    },\n",
        "    \"kernelspec\": {\n",
        "      \"name\": \"python3\",\n",
        "      \"display_name\": \"Python 3\"\n",
        "    },\n",
        "    \"language_info\": {\n",
        "      \"name\": \"python\"\n",
        "    }\n",
        "  },\n",
        "  \"cells\": [\n",
        "    {\n",
        "      \"cell_type\": \"code\",\n",
        "      \"execution_count\": null,\n",
        "      \"metadata\": {\n",
        "        \"id\": \"zmVixwyTprvp\"\n",
        "      },\n",
        "      \"outputs\": [],\n",
        "      \"source\": []\n",
        "    }\n",
        "  ]\n",
        "}\n",
        "\n",
        "変更後\n",
        "{\n",
        "  \"nbformat\": 4,\n",
        "  \"nbformat_minor\": 0,\n",
        "  \"metadata\": {\n",
        "    \"colab\": {\n",
        "      \"provenance\": []\n",
        "    },\n",
        "    \"kernelspec\": {\n",
        "      \"name\": \"ir\",\n",
        "      \"display_name\": \"R\"\n",
        "    },\n",
        "    \"language_info\": {\n",
        "      \"name\": \"python\"\n",
        "    }\n",
        "  },\n",
        "  \"cells\": [\n",
        "    {\n",
        "      \"cell_type\": \"code\",\n",
        "      \"execution_count\": null,\n",
        "      \"metadata\": {\n",
        "        \"id\": \"zmVixwyTprvp\"\n",
        "      },\n",
        "      \"outputs\": [],\n",
        "      \"source\": []\n",
        "    }\n",
        "  ]\n",
        "}"
      ],
      "metadata": {
        "id": "SquiDlF6qlZW"
      }
    },
    {
      "cell_type": "code",
      "execution_count": 1,
      "metadata": {
        "id": "zmVixwyTprvp",
        "colab": {
          "base_uri": "https://localhost:8080/",
          "height": 546
        },
        "outputId": "b160cb7f-57f3-4d40-b8e3-66c6507c4667"
      },
      "outputs": [
        {
          "output_type": "display_data",
          "data": {
            "text/plain": [
              "R version 4.4.1 (2024-06-14)\n",
              "Platform: x86_64-pc-linux-gnu\n",
              "Running under: Ubuntu 22.04.3 LTS\n",
              "\n",
              "Matrix products: default\n",
              "BLAS:   /usr/lib/x86_64-linux-gnu/openblas-pthread/libblas.so.3 \n",
              "LAPACK: /usr/lib/x86_64-linux-gnu/openblas-pthread/libopenblasp-r0.3.20.so;  LAPACK version 3.10.0\n",
              "\n",
              "locale:\n",
              " [1] LC_CTYPE=en_US.UTF-8       LC_NUMERIC=C              \n",
              " [3] LC_TIME=en_US.UTF-8        LC_COLLATE=en_US.UTF-8    \n",
              " [5] LC_MONETARY=en_US.UTF-8    LC_MESSAGES=en_US.UTF-8   \n",
              " [7] LC_PAPER=en_US.UTF-8       LC_NAME=C                 \n",
              " [9] LC_ADDRESS=C               LC_TELEPHONE=C            \n",
              "[11] LC_MEASUREMENT=en_US.UTF-8 LC_IDENTIFICATION=C       \n",
              "\n",
              "time zone: Etc/UTC\n",
              "tzcode source: system (glibc)\n",
              "\n",
              "attached base packages:\n",
              "[1] stats     graphics  grDevices utils     datasets  methods   base     \n",
              "\n",
              "loaded via a namespace (and not attached):\n",
              " [1] digest_0.6.37     IRdisplay_1.1     utf8_1.2.4        base64enc_0.1-3  \n",
              " [5] fastmap_1.2.0     glue_1.8.0        htmltools_0.5.8.1 repr_1.1.7       \n",
              " [9] lifecycle_1.0.4   cli_3.6.3         fansi_1.0.6       vctrs_0.6.5      \n",
              "[13] pbdZMQ_0.3-13     compiler_4.4.1    tools_4.4.1       evaluate_1.0.1   \n",
              "[17] pillar_1.9.0      crayon_1.5.3      rlang_1.1.4       jsonlite_1.8.9   \n",
              "[21] IRkernel_1.3.2    uuid_1.2-1       "
            ]
          },
          "metadata": {}
        }
      ],
      "source": [
        "sessionInfo()"
      ]
    },
    {
      "cell_type": "code",
      "source": [
        "# prompt: Rの例題を示してください。\n",
        "\n",
        "# ベクトルの作成\n",
        "my_vector <- c(1, 2, 3, 4, 5)\n",
        "\n",
        "# ベクトルの出力\n",
        "print(my_vector)\n",
        "\n",
        "# 平均の計算\n",
        "mean_value <- mean(my_vector)\n",
        "\n",
        "# 平均の出力\n",
        "print(mean_value)\n",
        "\n",
        "# データフレームの作成\n",
        "my_dataframe <- data.frame(\n",
        "  name = c(\"Alice\", \"Bob\", \"Charlie\"),\n",
        "  age = c(25, 30, 28)\n",
        ")\n",
        "\n",
        "# データフレームの出力\n",
        "print(my_dataframe)\n",
        "\n",
        "# データフレームの要約\n",
        "summary(my_dataframe)\n",
        "\n",
        "# ggplot2パッケージの読み込み\n",
        "library(ggplot2)\n",
        "\n",
        "# 散布図の作成\n",
        "ggplot(data = my_dataframe, aes(x = age, y = name)) +\n",
        "  geom_point()"
      ],
      "metadata": {
        "colab": {
          "base_uri": "https://localhost:8080/",
          "height": 674
        },
        "id": "B0ewO6uYtUeD",
        "outputId": "bc90a0f3-8f63-451e-bfe2-9f7bdfa8aca3"
      },
      "execution_count": 2,
      "outputs": [
        {
          "output_type": "stream",
          "name": "stdout",
          "text": [
            "[1] 1 2 3 4 5\n",
            "[1] 3\n",
            "     name age\n",
            "1   Alice  25\n",
            "2     Bob  30\n",
            "3 Charlie  28\n"
          ]
        },
        {
          "output_type": "display_data",
          "data": {
            "text/plain": [
              "     name                age       \n",
              " Length:3           Min.   :25.00  \n",
              " Class :character   1st Qu.:26.50  \n",
              " Mode  :character   Median :28.00  \n",
              "                    Mean   :27.67  \n",
              "                    3rd Qu.:29.00  \n",
              "                    Max.   :30.00  "
            ]
          },
          "metadata": {}
        },
        {
          "output_type": "display_data",
          "data": {
            "text/plain": [
              "plot without title"
            ],
            "image/png": "[encoded data removed]"
          },
          "metadata": {
            "image/png": {
              "width": 420,
              "height": 420
            }
          }
        }
      ]
    }
  ]
}