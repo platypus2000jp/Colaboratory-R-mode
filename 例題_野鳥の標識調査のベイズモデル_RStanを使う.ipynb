{
  "nbformat": 4,
  "nbformat_minor": 0,
  "metadata": {
    "colab": {
      "provenance": [],
      "authorship_tag": "ABX9TyN0p7uIWhM+1pgMn1hRyyO6",
      "include_colab_link": true
    },
    "kernelspec": {
      "name": "ir",
      "display_name": "R"
    },
    "language_info": {
      "name": "R"
    }
  },
  "cells": [
    {
      "cell_type": "markdown",
      "metadata": {
        "id": "view-in-github",
        "colab_type": "text"
      },
      "source": [
        "<a href=\"https://colab.research.google.com/github/platypus2000jp/Colaboratory-R-mode/blob/main/%E4%BE%8B%E9%A1%8C_%E9%87%8E%E9%B3%A5%E3%81%AE%E6%A8%99%E8%AD%98%E8%AA%BF%E6%9F%BB%E3%81%AE%E3%83%99%E3%82%A4%E3%82%BA%E3%83%A2%E3%83%87%E3%83%AB_RStan%E3%82%92%E4%BD%BF%E3%81%86.ipynb\" target=\"_parent\"><img src=\"https://colab.research.google.com/assets/colab-badge.svg\" alt=\"Open In Colab\"/></a>"
      ]
    },
    {
      "cell_type": "markdown",
      "source": [
        "野鳥の標識調査について機械学習またはベイズのモデルの解析例を示してください。Rでお願いします。rstanを使ってください。\n",
        "\n",
        "ChatGPT:\n",
        "ChatGPT\n",
        "野鳥の標識調査（標識再捕法）は、野鳥個体群の動態や生存率、移動パターンを調査するための手法です。ベイズ統計や機械学習のアプローチを使用することで、個体群のパラメータ推定や予測精度を高めることができます。ここでは、rstanを使ったベイズ推定の例として、簡単な「標識再捕法」に基づく生存率モデルをRで構築します。\n",
        "\n",
        "データ構造の説明\n",
        "標識再捕データには、以下のような情報が含まれます。\n",
        "\n",
        "N: 放鳥または標識された個体数\n",
        "y: その後の捕獲履歴 (例: 0は再捕獲されなかった、1は再捕獲された)\n",
        "T: 調査期間\n",
        "例えば、1期目に100羽の野鳥に標識を付け、その後の3年間で再捕率を記録するようなデータを想定します。\n",
        "\n",
        "ベイズモデルの基本的な構造\n",
        "ここでは、φを生存率、pを捕獲確率としてモデル化します。生存率は調査期間中に個体が生き残る確率であり、捕獲確率は捕獲される確率です。これらのパラメータをベイズ推定します。\n",
        "\n",
        "RStanを使ったコード例\n",
        "Stanコードの記述: Stanコードでは、生存率phiと捕獲確率pを推定します。これらはベータ分布の事前分布を持ちます。\n",
        "r\n",
        "コードをコピーする\n",
        "library(rstan)\n",
        "\n",
        "# Stanコードの作成\n",
        "stan_code <- \"\n",
        "data {\n",
        "  int<lower=0> N; // 標識個体数\n",
        "  int<lower=0> T; // 調査期間\n",
        "  int<lower=0,upper=1> y[N, T]; // 捕獲履歴\n",
        "}\n",
        "parameters {\n",
        "  real<lower=0,upper=1> phi; // 生存率\n",
        "  real<lower=0,upper=1> p;   // 捕獲確率\n",
        "}\n",
        "model {\n",
        "  phi ~ beta(1, 1); // 生存率の事前分布\n",
        "  p ~ beta(1, 1);   // 捕獲確率の事前分布\n",
        "\n",
        "  for (i in 1:N) {\n",
        "    for (t in 2:T) {\n",
        "      // キャプチャ履歴の尤度\n",
        "      if (y[i, t-1] == 1) {\n",
        "        y[i, t] ~ bernoulli(phi * p);\n",
        "      }\n",
        "    }\n",
        "  }\n",
        "}\n",
        "\"\n",
        "\n",
        "# Stanコードをファイルに保存しても良いが、今回は直接使います。\n",
        "\n",
        "# 2. データの準備\n",
        "set.seed(123)\n",
        "N <- 100  # 標識された個体数\n",
        "T <- 5    # 調査期間\n",
        "phi_true <- 0.7  # 真の生存率\n",
        "p_true <- 0.5    # 真の捕獲確率\n",
        "\n",
        "# 捕獲履歴のシミュレーション\n",
        "y <- matrix(0, nrow = N, ncol = T)\n",
        "for (i in 1:N) {\n",
        "  y[i, 1] <- rbinom(1, 1, p_true)  # 初年度の捕獲\n",
        "  for (t in 2:T) {\n",
        "    if (y[i, t-1] == 1) {  # 前の年に捕獲されていたら\n",
        "      survived <- rbinom(1, 1, phi_true)\n",
        "      y[i, t] <- ifelse(survived == 1, rbinom(1, 1, p_true), 0)\n",
        "    }\n",
        "  }\n",
        "}\n",
        "\n",
        "# 3. Stanにデータを渡してモデルを実行\n",
        "stan_data <- list(N = N, T = T, y = y)\n",
        "fit <- stan(model_code = stan_code, data = stan_data, iter = 2000, chains = 4)\n",
        "\n",
        "# 4. 結果の確認\n",
        "print(fit, pars = c(\"phi\", \"p\"))\n",
        "コードの解説\n",
        "Stanモデルでは、生存率phiと捕獲確率pをそれぞれベータ分布から事前に設定しています。調査期間中のデータ（捕獲履歴y）を用いてこれらのパラメータを推定します。\n",
        "yは個体ごとの再捕獲データです。初年度に標識された個体が、次年度以降に生存し再捕獲されたかどうかが0または1で記録されています。\n",
        "結果の解釈\n",
        "fitの結果から推定されたphi（生存率）とp（捕獲確率）が確認できます。真の値（phi_true = 0.7、p_true = 0.5）と比較することでモデルの精度を評価します。\n",
        "\n",
        "参考\n",
        "ベイズモデルの詳細やrstanの使い方については、以下のドキュメントが役立ちます。\n",
        "\n",
        "Stan公式ドキュメント\n",
        "RStanのチュートリアル\n",
        "このアプローチを拡張すれば、より複雑な個体群動態や環境要因を考慮したモデルも構築できます。"
      ],
      "metadata": {
        "id": "H0iCLNBy1pHP"
      }
    },
    {
      "cell_type": "code",
      "source": [
        "##rstanがインストールされていないならインストールする\n",
        "##2021年1月現在うまく動く\n",
        "x<-installed.packages()\n",
        "if(any(x[,1]== 'rstan') == FALSE){\n",
        "    system(\"add-apt-repository -y ppa:marutter/rrutter4.0\")\n",
        "    system(\"add-apt-repository -y ppa:c2d4u.team/c2d4u4.0+\")\n",
        "    system(\"add-apt-repository ppa:cran/v8\")\n",
        "    system(\"apt-get update\")\n",
        "    system(\"apt-get install libnode-dev\")\n",
        "    system(\"apt-get install r-cran-rstan\")\n",
        "}"
      ],
      "metadata": {
        "id": "PmzLh-i90xO2"
      },
      "execution_count": null,
      "outputs": []
    },
    {
      "cell_type": "code",
      "source": [
        "# パッケージの読み込み\n",
        "library(rstan)"
      ],
      "metadata": {
        "colab": {
          "base_uri": "https://localhost:8080/"
        },
        "id": "bFa0hY8P0m1o",
        "outputId": "baf6f644-7703-411b-d3fe-3fd9ecf4585b"
      },
      "execution_count": null,
      "outputs": [
        {
          "output_type": "stream",
          "name": "stderr",
          "text": [
            "Loading required package: StanHeaders\n",
            "\n",
            "\n",
            "rstan version 2.32.6 (Stan version 2.32.2)\n",
            "\n",
            "\n",
            "For execution on a local, multicore CPU with excess RAM we recommend calling\n",
            "options(mc.cores = parallel::detectCores()).\n",
            "To avoid recompilation of unchanged Stan programs, we recommend calling\n",
            "rstan_options(auto_write = TRUE)\n",
            "For within-chain threading using `reduce_sum()` or `map_rect()` Stan functions,\n",
            "change `threads_per_chain` option:\n",
            "rstan_options(threads_per_chain = 1)\n",
            "\n",
            "\n"
          ]
        }
      ]
    },
    {
      "cell_type": "code",
      "source": [
        "# Stanコードの作成\n",
        "stan_code <- \"\n",
        "data {\n",
        "  int<lower=0> N; // 標識個体数\n",
        "  int<lower=0> T; // 調査期間\n",
        "  int<lower=0,upper=1> y[N, T]; // 捕獲履歴\n",
        "}\n",
        "parameters {\n",
        "  real<lower=0,upper=1> phi; // 生存率\n",
        "  real<lower=0,upper=1> p;   // 捕獲確率\n",
        "}\n",
        "model {\n",
        "  phi ~ beta(1, 1); // 生存率の事前分布\n",
        "  p ~ beta(1, 1);   // 捕獲確率の事前分布\n",
        "\n",
        "  for (i in 1:N) {\n",
        "    for (t in 2:T) {\n",
        "      // キャプチャ履歴の尤度\n",
        "      if (y[i, t-1] == 1) {\n",
        "        y[i, t] ~ bernoulli(phi * p);\n",
        "      }\n",
        "    }\n",
        "  }\n",
        "}\n",
        "\"\n",
        "\n",
        "# Stanコードをファイルに保存しても良いが、今回は直接使います。"
      ],
      "metadata": {
        "id": "HsIIeKM21-yB"
      },
      "execution_count": null,
      "outputs": []
    },
    {
      "cell_type": "code",
      "source": [
        "# 2. データの準備\n",
        "set.seed(123)\n",
        "N <- 100  # 標識された個体数\n",
        "T <- 5    # 調査期間\n",
        "phi_true <- 0.7  # 真の生存率\n",
        "p_true <- 0.5    # 真の捕獲確率"
      ],
      "metadata": {
        "id": "6VPRuNNY2CFz"
      },
      "execution_count": null,
      "outputs": []
    },
    {
      "cell_type": "code",
      "source": [
        "# 捕獲履歴のシミュレーション\n",
        "y <- matrix(0, nrow = N, ncol = T)\n",
        "for (i in 1:N) {\n",
        "  y[i, 1] <- rbinom(1, 1, p_true)  # 初年度の捕獲\n",
        "  for (t in 2:T) {\n",
        "    if (y[i, t-1] == 1) {  # 前の年に捕獲されていたら\n",
        "      survived <- rbinom(1, 1, phi_true)\n",
        "      y[i, t] <- ifelse(survived == 1, rbinom(1, 1, p_true), 0)\n",
        "    }\n",
        "  }\n",
        "}\n"
      ],
      "metadata": {
        "id": "EBUKMBR92EZR"
      },
      "execution_count": null,
      "outputs": []
    },
    {
      "cell_type": "code",
      "source": [
        "# 3. Stanにデータを渡してモデルを実行\n",
        "stan_data <- list(N = N, T = T, y = y)\n",
        "fit <- stan(model_code = stan_code, data = stan_data, iter = 2000, chains = 4)"
      ],
      "metadata": {
        "colab": {
          "base_uri": "https://localhost:8080/"
        },
        "id": "V5xJUDDv2HCf",
        "outputId": "85b9069a-07a4-4dd7-e9f5-db8cc6ae61c9"
      },
      "execution_count": null,
      "outputs": [
        {
          "output_type": "stream",
          "name": "stdout",
          "text": [
            "\n",
            "SAMPLING FOR MODEL 'anon_model' NOW (CHAIN 1).\n",
            "Chain 1: \n",
            "Chain 1: Gradient evaluation took 4.7e-05 seconds\n",
            "Chain 1: 1000 transitions using 10 leapfrog steps per transition would take 0.47 seconds.\n",
            "Chain 1: Adjust your expectations accordingly!\n",
            "Chain 1: \n",
            "Chain 1: \n",
            "Chain 1: Iteration:    1 / 2000 [  0%]  (Warmup)\n",
            "Chain 1: Iteration:  200 / 2000 [ 10%]  (Warmup)\n",
            "Chain 1: Iteration:  400 / 2000 [ 20%]  (Warmup)\n",
            "Chain 1: Iteration:  600 / 2000 [ 30%]  (Warmup)\n",
            "Chain 1: Iteration:  800 / 2000 [ 40%]  (Warmup)\n",
            "Chain 1: Iteration: 1000 / 2000 [ 50%]  (Warmup)\n",
            "Chain 1: Iteration: 1001 / 2000 [ 50%]  (Sampling)\n",
            "Chain 1: Iteration: 1200 / 2000 [ 60%]  (Sampling)\n",
            "Chain 1: Iteration: 1400 / 2000 [ 70%]  (Sampling)\n",
            "Chain 1: Iteration: 1600 / 2000 [ 80%]  (Sampling)\n",
            "Chain 1: Iteration: 1800 / 2000 [ 90%]  (Sampling)\n",
            "Chain 1: Iteration: 2000 / 2000 [100%]  (Sampling)\n",
            "Chain 1: \n",
            "Chain 1:  Elapsed Time: 0.247 seconds (Warm-up)\n",
            "Chain 1:                0.251 seconds (Sampling)\n",
            "Chain 1:                0.498 seconds (Total)\n",
            "Chain 1: \n",
            "\n",
            "SAMPLING FOR MODEL 'anon_model' NOW (CHAIN 2).\n",
            "Chain 2: \n",
            "Chain 2: Gradient evaluation took 2.6e-05 seconds\n",
            "Chain 2: 1000 transitions using 10 leapfrog steps per transition would take 0.26 seconds.\n",
            "Chain 2: Adjust your expectations accordingly!\n",
            "Chain 2: \n",
            "Chain 2: \n",
            "Chain 2: Iteration:    1 / 2000 [  0%]  (Warmup)\n",
            "Chain 2: Iteration:  200 / 2000 [ 10%]  (Warmup)\n",
            "Chain 2: Iteration:  400 / 2000 [ 20%]  (Warmup)\n",
            "Chain 2: Iteration:  600 / 2000 [ 30%]  (Warmup)\n",
            "Chain 2: Iteration:  800 / 2000 [ 40%]  (Warmup)\n",
            "Chain 2: Iteration: 1000 / 2000 [ 50%]  (Warmup)\n",
            "Chain 2: Iteration: 1001 / 2000 [ 50%]  (Sampling)\n",
            "Chain 2: Iteration: 1200 / 2000 [ 60%]  (Sampling)\n",
            "Chain 2: Iteration: 1400 / 2000 [ 70%]  (Sampling)\n",
            "Chain 2: Iteration: 1600 / 2000 [ 80%]  (Sampling)\n",
            "Chain 2: Iteration: 1800 / 2000 [ 90%]  (Sampling)\n",
            "Chain 2: Iteration: 2000 / 2000 [100%]  (Sampling)\n",
            "Chain 2: \n",
            "Chain 2:  Elapsed Time: 0.223 seconds (Warm-up)\n",
            "Chain 2:                0.126 seconds (Sampling)\n",
            "Chain 2:                0.349 seconds (Total)\n",
            "Chain 2: \n",
            "\n",
            "SAMPLING FOR MODEL 'anon_model' NOW (CHAIN 3).\n",
            "Chain 3: \n",
            "Chain 3: Gradient evaluation took 2e-05 seconds\n",
            "Chain 3: 1000 transitions using 10 leapfrog steps per transition would take 0.2 seconds.\n",
            "Chain 3: Adjust your expectations accordingly!\n",
            "Chain 3: \n",
            "Chain 3: \n",
            "Chain 3: Iteration:    1 / 2000 [  0%]  (Warmup)\n",
            "Chain 3: Iteration:  200 / 2000 [ 10%]  (Warmup)\n",
            "Chain 3: Iteration:  400 / 2000 [ 20%]  (Warmup)\n",
            "Chain 3: Iteration:  600 / 2000 [ 30%]  (Warmup)\n",
            "Chain 3: Iteration:  800 / 2000 [ 40%]  (Warmup)\n",
            "Chain 3: Iteration: 1000 / 2000 [ 50%]  (Warmup)\n",
            "Chain 3: Iteration: 1001 / 2000 [ 50%]  (Sampling)\n",
            "Chain 3: Iteration: 1200 / 2000 [ 60%]  (Sampling)\n",
            "Chain 3: Iteration: 1400 / 2000 [ 70%]  (Sampling)\n",
            "Chain 3: Iteration: 1600 / 2000 [ 80%]  (Sampling)\n",
            "Chain 3: Iteration: 1800 / 2000 [ 90%]  (Sampling)\n",
            "Chain 3: Iteration: 2000 / 2000 [100%]  (Sampling)\n",
            "Chain 3: \n",
            "Chain 3:  Elapsed Time: 0.136 seconds (Warm-up)\n",
            "Chain 3:                0.134 seconds (Sampling)\n",
            "Chain 3:                0.27 seconds (Total)\n",
            "Chain 3: \n",
            "\n",
            "SAMPLING FOR MODEL 'anon_model' NOW (CHAIN 4).\n",
            "Chain 4: \n",
            "Chain 4: Gradient evaluation took 1.7e-05 seconds\n",
            "Chain 4: 1000 transitions using 10 leapfrog steps per transition would take 0.17 seconds.\n",
            "Chain 4: Adjust your expectations accordingly!\n",
            "Chain 4: \n",
            "Chain 4: \n",
            "Chain 4: Iteration:    1 / 2000 [  0%]  (Warmup)\n",
            "Chain 4: Iteration:  200 / 2000 [ 10%]  (Warmup)\n",
            "Chain 4: Iteration:  400 / 2000 [ 20%]  (Warmup)\n",
            "Chain 4: Iteration:  600 / 2000 [ 30%]  (Warmup)\n",
            "Chain 4: Iteration:  800 / 2000 [ 40%]  (Warmup)\n",
            "Chain 4: Iteration: 1000 / 2000 [ 50%]  (Warmup)\n",
            "Chain 4: Iteration: 1001 / 2000 [ 50%]  (Sampling)\n",
            "Chain 4: Iteration: 1200 / 2000 [ 60%]  (Sampling)\n",
            "Chain 4: Iteration: 1400 / 2000 [ 70%]  (Sampling)\n",
            "Chain 4: Iteration: 1600 / 2000 [ 80%]  (Sampling)\n",
            "Chain 4: Iteration: 1800 / 2000 [ 90%]  (Sampling)\n",
            "Chain 4: Iteration: 2000 / 2000 [100%]  (Sampling)\n",
            "Chain 4: \n",
            "Chain 4:  Elapsed Time: 0.131 seconds (Warm-up)\n",
            "Chain 4:                0.142 seconds (Sampling)\n",
            "Chain 4:                0.273 seconds (Total)\n",
            "Chain 4: \n"
          ]
        }
      ]
    },
    {
      "cell_type": "code",
      "source": [
        "# 4. 結果の確認\n",
        "print(fit, pars = c(\"phi\", \"p\"))"
      ],
      "metadata": {
        "colab": {
          "base_uri": "https://localhost:8080/"
        },
        "id": "bV6jPV0C2Q0P",
        "outputId": "d986a3e3-b925-4036-9774-a3d201b37a42"
      },
      "execution_count": null,
      "outputs": [
        {
          "output_type": "stream",
          "name": "stdout",
          "text": [
            "Inference for Stan model: anon_model.\n",
            "4 chains, each with iter=2000; warmup=1000; thin=1; \n",
            "post-warmup draws per chain=1000, total post-warmup draws=4000.\n",
            "\n",
            "    mean se_mean   sd 2.5%  25%  50%  75% 97.5% n_eff Rhat\n",
            "phi 0.60    0.01 0.19 0.31 0.45 0.58 0.75  0.97  1020 1.01\n",
            "p   0.63    0.01 0.19 0.32 0.47 0.61 0.78  0.97   928 1.01\n",
            "\n",
            "Samples were drawn using NUTS(diag_e) at Thu Oct 24 04:47:33 2024.\n",
            "For each parameter, n_eff is a crude measure of effective sample size,\n",
            "and Rhat is the potential scale reduction factor on split chains (at \n",
            "convergence, Rhat=1).\n"
          ]
        }
      ]
    }
  ]
}